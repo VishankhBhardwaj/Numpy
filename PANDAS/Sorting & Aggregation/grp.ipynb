{
 "cells": [
  {
   "cell_type": "code",
   "execution_count": 2,
   "id": "573fda9d",
   "metadata": {},
   "outputs": [
    {
     "name": "stdout",
     "output_type": "stream",
     "text": [
      "Age  Name \n",
      "22   karun    45000\n",
      "28   Arun     50000\n",
      "     Marun    48000\n",
      "34   Narun    52000\n",
      "     Varun    60000\n",
      "Name: Salary, dtype: int64\n"
     ]
    }
   ],
   "source": [
    "import pandas as pd\n",
    "data = {\n",
    "    \"Name\":[\"Arun\",\"Varun\",\"karun\",\"Narun\",\"Marun\"],\n",
    "    \"Age\":[28,34,22,34,28],\n",
    "    \"Salary\":[50000,60000,45000,52000,48000]\n",
    "}\n",
    "\n",
    "df=pd.DataFrame(data)\n",
    "# grouped = df.groupby(\"Age\")[\"Salary\"].sum()\n",
    "grouped = df.groupby([\"Age\",\"Name\"\n",
    "])[\"Salary\"].sum()\n",
    "print(grouped)"
   ]
  },
  {
   "cell_type": "code",
   "execution_count": null,
   "id": "7f6c87ea",
   "metadata": {},
   "outputs": [],
   "source": []
  }
 ],
 "metadata": {
  "kernelspec": {
   "display_name": ".venv",
   "language": "python",
   "name": "python3"
  },
  "language_info": {
   "codemirror_mode": {
    "name": "ipython",
    "version": 3
   },
   "file_extension": ".py",
   "mimetype": "text/x-python",
   "name": "python",
   "nbconvert_exporter": "python",
   "pygments_lexer": "ipython3",
   "version": "3.13.5"
  }
 },
 "nbformat": 4,
 "nbformat_minor": 5
}
