{
 "cells": [
  {
   "cell_type": "markdown",
   "id": "752e22b3",
   "metadata": {},
   "source": [
    "## Sorting"
   ]
  },
  {
   "cell_type": "code",
   "execution_count": 3,
   "id": "79d737c0",
   "metadata": {},
   "outputs": [
    {
     "name": "stdout",
     "output_type": "stream",
     "text": [
      "Sorted age by descending\n",
      "    Name  Age  Salary\n",
      "2  Karun    8   30000\n",
      "0   Arun   10   10000\n",
      "1  Varun   20   20000\n"
     ]
    }
   ],
   "source": [
    "# sorting data in 1 column sort_values()\n",
    "# df.sort_values(by=\"Column Name\",ascending=True/False,inplace=True)\n",
    "\n",
    "import pandas as pd\n",
    "data = {\n",
    "    \"Name\":[\"Arun\",\"Varun\",\"Karun\"],\n",
    "    \"Age\":[10,20,8],\n",
    "    \"Salary\":[10000,20000,30000]\n",
    "}\n",
    "\n",
    "df=pd.DataFrame(data)\n",
    "print(\"Sorted age by descending\")\n",
    "# df.sort_values(by=\"Age\",ascending=True,inplace=True)\n",
    "df.sort_values(by=[\"Age\",\"Salary\"],ascending=[True,False],inplace=True)\n",
    "print(df)"
   ]
  },
  {
   "cell_type": "code",
   "execution_count": null,
   "id": "85ab8f78",
   "metadata": {},
   "outputs": [],
   "source": []
  }
 ],
 "metadata": {
  "kernelspec": {
   "display_name": ".venv",
   "language": "python",
   "name": "python3"
  },
  "language_info": {
   "codemirror_mode": {
    "name": "ipython",
    "version": 3
   },
   "file_extension": ".py",
   "mimetype": "text/x-python",
   "name": "python",
   "nbconvert_exporter": "python",
   "pygments_lexer": "ipython3",
   "version": "3.13.5"
  }
 },
 "nbformat": 4,
 "nbformat_minor": 5
}
