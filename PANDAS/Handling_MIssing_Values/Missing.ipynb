{
 "cells": [
  {
   "cell_type": "markdown",
   "id": "2c953301",
   "metadata": {},
   "source": [
    "## Handling Missing Data"
   ]
  },
  {
   "cell_type": "code",
   "execution_count": 6,
   "id": "4d346de6",
   "metadata": {},
   "outputs": [
    {
     "name": "stdout",
     "output_type": "stream",
     "text": [
      "      Name   Age   Salary  Performance_Score\n",
      "0    Alice  28.0  50000.0               85.0\n",
      "1     None   NaN      NaN                NaN\n",
      "2  Charlie  25.0  45000.0               78.0\n",
      "3    David  45.0  80000.0               92.0\n",
      "4      Eva  30.0  55000.0               88.0\n",
      "5    Frank  40.0  70000.0               95.0\n",
      "    Name    Age  Salary  Performance_Score\n",
      "0  False  False   False              False\n",
      "1   True   True    True               True\n",
      "2  False  False   False              False\n",
      "3  False  False   False              False\n",
      "4  False  False   False              False\n",
      "5  False  False   False              False\n",
      "Name                 1\n",
      "Age                  1\n",
      "Salary               1\n",
      "Performance_Score    1\n",
      "dtype: int64\n"
     ]
    }
   ],
   "source": [
    "import pandas as pd\n",
    "data = {\n",
    "    \"Name\": [\"Alice\", None, \"Charlie\", \"David\", \"Eva\", \"Frank\"],\n",
    "    \"Age\": [28, None, 25, 45, 30, 40],\n",
    "    \"Salary\": [50000, None, 45000, 80000, 55000, 70000],\n",
    "    \"Performance_Score\":[85,None,78,92,88,95]\n",
    "}\n",
    "df = pd.DataFrame(data)\n",
    "print(df)\n",
    "print(df.isnull())\n",
    "print(df.isnull().sum())\n"
   ]
  },
  {
   "cell_type": "markdown",
   "id": "e3c2004d",
   "metadata": {},
   "source": [
    "# Handling missing values"
   ]
  },
  {
   "cell_type": "code",
   "execution_count": null,
   "id": "6cc4587f",
   "metadata": {},
   "outputs": [
    {
     "name": "stdout",
     "output_type": "stream",
     "text": [
      "      Name   Age   Salary  Performance_Score\n",
      "0    Alice  28.0  50000.0               85.0\n",
      "2  Charlie  25.0  45000.0               78.0\n",
      "3    David  45.0  80000.0               92.0\n",
      "4      Eva  30.0  55000.0               88.0\n",
      "5    Frank  40.0  70000.0               95.0\n",
      "      Name   Age   Salary  Performance_Score\n",
      "0    Alice  28.0  50000.0               85.0\n",
      "2  Charlie  25.0  45000.0               78.0\n",
      "3    David  45.0  80000.0               92.0\n",
      "4      Eva  30.0  55000.0               88.0\n",
      "5    Frank  40.0  70000.0               95.0\n"
     ]
    }
   ],
   "source": [
    "#dropna()\n",
    "df.dropna(axis=0,inplace=True)\n",
    "df.dropna(axis=1,inplace=True)\n",
    "print(df)\n",
    "\n",
    "\n",
    "\n"
   ]
  },
  {
   "cell_type": "markdown",
   "id": "763e4fde",
   "metadata": {},
   "source": [
    "# Filling missing values\n"
   ]
  },
  {
   "cell_type": "code",
   "execution_count": 16,
   "id": "842dcf0f",
   "metadata": {},
   "outputs": [
    {
     "name": "stdout",
     "output_type": "stream",
     "text": [
      "      Name   Age   Salary  Performance_Score\n",
      "0    Alice  28.0  50000.0               85.0\n",
      "1     None  33.6  60000.0                NaN\n",
      "2  Charlie  25.0  45000.0               78.0\n",
      "3    David  45.0  80000.0               92.0\n",
      "4      Eva  30.0  55000.0               88.0\n",
      "5    Frank  40.0  70000.0               95.0\n"
     ]
    },
    {
     "name": "stderr",
     "output_type": "stream",
     "text": [
      "C:\\Users\\vishankh\\AppData\\Local\\Temp\\ipykernel_2440\\2766339530.py:11: FutureWarning: A value is trying to be set on a copy of a DataFrame or Series through chained assignment using an inplace method.\n",
      "The behavior will change in pandas 3.0. This inplace method will never work because the intermediate object on which we are setting values always behaves as a copy.\n",
      "\n",
      "For example, when doing 'df[col].method(value, inplace=True)', try using 'df.method({col: value}, inplace=True)' or df[col] = df[col].method(value) instead, to perform the operation inplace on the original object.\n",
      "\n",
      "\n",
      "  df[\"Age\"].fillna(df[\"Age\"].mean(),inplace=True)\n",
      "C:\\Users\\vishankh\\AppData\\Local\\Temp\\ipykernel_2440\\2766339530.py:12: FutureWarning: A value is trying to be set on a copy of a DataFrame or Series through chained assignment using an inplace method.\n",
      "The behavior will change in pandas 3.0. This inplace method will never work because the intermediate object on which we are setting values always behaves as a copy.\n",
      "\n",
      "For example, when doing 'df[col].method(value, inplace=True)', try using 'df.method({col: value}, inplace=True)' or df[col] = df[col].method(value) instead, to perform the operation inplace on the original object.\n",
      "\n",
      "\n",
      "  df[\"Salary\"].fillna(df[\"Salary\"].mean(),inplace=True)\n"
     ]
    }
   ],
   "source": [
    "#fillna()\n",
    "#fillna(value,inplace=True)\n",
    "data = {\n",
    "    \"Name\": [\"Alice\", None, \"Charlie\", \"David\", \"Eva\", \"Frank\"],\n",
    "    \"Age\": [28, None, 25, 45, 30, 40],\n",
    "    \"Salary\": [50000, None, 45000, 80000, 55000, 70000],\n",
    "    \"Performance_Score\":[85,None,78,92,88,95]\n",
    "}\n",
    "df = pd.DataFrame(data)\n",
    "# df.fillna(0,inplace=True)\n",
    "df[\"Age\"].fillna(df[\"Age\"].mean(),inplace=True)\n",
    "df[\"Salary\"].fillna(df[\"Salary\"].mean(),inplace=True)\n",
    "print(df)"
   ]
  },
  {
   "cell_type": "markdown",
   "id": "fe251ff2",
   "metadata": {},
   "source": [
    "# InterPolation"
   ]
  },
  {
   "cell_type": "code",
   "execution_count": 2,
   "id": "d9d1f2ec",
   "metadata": {},
   "outputs": [
    {
     "ename": "NameError",
     "evalue": "name 'pd' is not defined",
     "output_type": "error",
     "traceback": [
      "\u001b[31m---------------------------------------------------------------------------\u001b[39m",
      "\u001b[31mNameError\u001b[39m                                 Traceback (most recent call last)",
      "\u001b[36mCell\u001b[39m\u001b[36m \u001b[39m\u001b[32mIn[2]\u001b[39m\u001b[32m, line 7\u001b[39m\n\u001b[32m      1\u001b[39m data = {\n\u001b[32m      2\u001b[39m     \u001b[33m\"\u001b[39m\u001b[33mName\u001b[39m\u001b[33m\"\u001b[39m: [\u001b[33m\"\u001b[39m\u001b[33mAlice\u001b[39m\u001b[33m\"\u001b[39m, \u001b[38;5;28;01mNone\u001b[39;00m, \u001b[33m\"\u001b[39m\u001b[33mCharlie\u001b[39m\u001b[33m\"\u001b[39m, \u001b[33m\"\u001b[39m\u001b[33mDavid\u001b[39m\u001b[33m\"\u001b[39m, \u001b[33m\"\u001b[39m\u001b[33mEva\u001b[39m\u001b[33m\"\u001b[39m, \u001b[33m\"\u001b[39m\u001b[33mFrank\u001b[39m\u001b[33m\"\u001b[39m],\n\u001b[32m      3\u001b[39m     \u001b[33m\"\u001b[39m\u001b[33mAge\u001b[39m\u001b[33m\"\u001b[39m: [\u001b[32m28\u001b[39m, \u001b[38;5;28;01mNone\u001b[39;00m, \u001b[32m25\u001b[39m, \u001b[32m45\u001b[39m, \u001b[32m30\u001b[39m, \u001b[32m40\u001b[39m],\n\u001b[32m      4\u001b[39m     \u001b[33m\"\u001b[39m\u001b[33mSalary\u001b[39m\u001b[33m\"\u001b[39m: [\u001b[32m50000\u001b[39m, \u001b[38;5;28;01mNone\u001b[39;00m, \u001b[32m45000\u001b[39m, \u001b[32m80000\u001b[39m, \u001b[32m55000\u001b[39m, \u001b[32m70000\u001b[39m],\n\u001b[32m      5\u001b[39m     \u001b[33m\"\u001b[39m\u001b[33mPerformance_Score\u001b[39m\u001b[33m\"\u001b[39m:[\u001b[32m85\u001b[39m,\u001b[38;5;28;01mNone\u001b[39;00m,\u001b[32m78\u001b[39m,\u001b[32m92\u001b[39m,\u001b[32m88\u001b[39m,\u001b[32m95\u001b[39m]\n\u001b[32m      6\u001b[39m }\n\u001b[32m----> \u001b[39m\u001b[32m7\u001b[39m df = \u001b[43mpd\u001b[49m.DataFrame(data)\n\u001b[32m      8\u001b[39m \u001b[38;5;28mprint\u001b[39m(df)\n\u001b[32m      9\u001b[39m \u001b[38;5;66;03m#linear,polynomial,time\u001b[39;00m\n",
      "\u001b[31mNameError\u001b[39m: name 'pd' is not defined"
     ]
    }
   ],
   "source": [
    "data = {\n",
    "    \"Name\": [\"Alice\", None, \"Charlie\", \"David\", \"Eva\", \"Frank\"],\n",
    "    \"Age\": [28, None, 25, 45, 30, 40],\n",
    "    \"Salary\": [50000, None, 45000, 80000, 55000, 70000],\n",
    "    \"Performance_Score\":[85,None,78,92,88,95]\n",
    "}\n",
    "df = pd.DataFrame(data)\n",
    "print(df)\n",
    "#linear,polynomial,time\n",
    "df.interpolate(method=\"linear\",axis=0,inplace=True)\n",
    "print(df)"
   ]
  },
  {
   "cell_type": "code",
   "execution_count": null,
   "id": "bd985d63",
   "metadata": {},
   "outputs": [],
   "source": []
  }
 ],
 "metadata": {
  "kernelspec": {
   "display_name": ".venv",
   "language": "python",
   "name": "python3"
  },
  "language_info": {
   "codemirror_mode": {
    "name": "ipython",
    "version": 3
   },
   "file_extension": ".py",
   "mimetype": "text/x-python",
   "name": "python",
   "nbconvert_exporter": "python",
   "pygments_lexer": "ipython3",
   "version": "3.13.5"
  }
 },
 "nbformat": 4,
 "nbformat_minor": 5
}
