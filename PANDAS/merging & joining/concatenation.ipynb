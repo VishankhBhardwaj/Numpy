{
 "cells": [
  {
   "cell_type": "markdown",
   "id": "f98cd56a",
   "metadata": {},
   "source": [
    "\"\"\"\n",
    "    vertically(row-wise)\n",
    "    horizontally (column wise)\n",
    "\n",
    "\n",
    "    pd.concat(df1,df2,axis=0,ignore_index=True)\n",
    "\n",
    "    [df1,df2] = \n",
    "    axis=1\n",
    "    ignore_index = True\n",
    "\"\"\""
   ]
  },
  {
   "cell_type": "code",
   "execution_count": 3,
   "id": "067d61de",
   "metadata": {},
   "outputs": [
    {
     "name": "stdout",
     "output_type": "stream",
     "text": [
      "   0      1  2        3\n",
      "0  1  Gopal  3    Shyam\n",
      "1  2   Raju  4  Baburao\n"
     ]
    }
   ],
   "source": [
    "#vertically\n",
    "import pandas as pd\n",
    "df_Region1 = pd.DataFrame({\n",
    "    \"CustomerId\":[1,2],\n",
    "    \"Name\":[\"Gopal\",\"Raju\"]\n",
    "})\n",
    "\n",
    "#region2\n",
    "df_Region2 = pd.DataFrame({\n",
    "    \"CustomerId\":[3,4],\n",
    "    \"Name\":[\"Shyam\",\"Baburao\"]\n",
    "})\n",
    "\n",
    "\n",
    "#concatenate vertically \n",
    "df_concat = pd.concat([df_Region1,df_Region2],axis=1,ignore_index=True)\n",
    "print(df_concat)"
   ]
  },
  {
   "cell_type": "code",
   "execution_count": null,
   "id": "8ff8bac0",
   "metadata": {},
   "outputs": [],
   "source": []
  }
 ],
 "metadata": {
  "kernelspec": {
   "display_name": ".venv",
   "language": "python",
   "name": "python3"
  },
  "language_info": {
   "codemirror_mode": {
    "name": "ipython",
    "version": 3
   },
   "file_extension": ".py",
   "mimetype": "text/x-python",
   "name": "python",
   "nbconvert_exporter": "python",
   "pygments_lexer": "ipython3",
   "version": "3.13.5"
  }
 },
 "nbformat": 4,
 "nbformat_minor": 5
}
