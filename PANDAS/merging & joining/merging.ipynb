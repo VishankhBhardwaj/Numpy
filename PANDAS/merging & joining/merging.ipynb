{
 "cells": [
  {
   "cell_type": "code",
   "execution_count": 8,
   "id": "c236da0f",
   "metadata": {},
   "outputs": [
    {
     "name": "stdout",
     "output_type": "stream",
     "text": [
      "inner join\n",
      "   CustomerID    Name  OrderAmount\n",
      "0           1  Ramesh          250\n",
      "1           2  Suresh          450\n",
      "2           4     NaN          350\n"
     ]
    }
   ],
   "source": [
    "# pd.merge(df1,df2,on=\"Column_Name\",how=\"type of join\")\n",
    "\n",
    "import pandas as pd\n",
    "\n",
    "df_customers = pd.DataFrame({\n",
    "    \"CustomerID\":[1,2,3],\n",
    "    \"Name\":[\"Ramesh\",\"Suresh\",\"kalpesh\"]\n",
    "})\n",
    "\n",
    "# orders dataframe\n",
    "df_orders = pd.DataFrame({\n",
    "    \"CustomerID\":[1,2,4],\n",
    "    \"OrderAmount\":[250,450,350]\n",
    "})\n",
    "\n",
    "print(\"inner join\")\n",
    "# df_merged = pd.merge(df_customers, df_orders, on=\"CustomerID\", how=\"inner\")\n",
    "# df_merged = pd.merge(df_customers, df_orders, on=\"CustomerID\", how=\"outer\")\n",
    "# df_merged = pd.merge(df_customers, df_orders, on=\"CustomerID\", how=\"left\")\n",
    "df_merged = pd.merge(df_customers, df_orders, on=\"CustomerID\", how=\"right\")\n",
    "print(df_merged)\n"
   ]
  },
  {
   "cell_type": "code",
   "execution_count": null,
   "id": "ee2c25ed",
   "metadata": {},
   "outputs": [],
   "source": []
  }
 ],
 "metadata": {
  "kernelspec": {
   "display_name": ".venv",
   "language": "python",
   "name": "python3"
  },
  "language_info": {
   "codemirror_mode": {
    "name": "ipython",
    "version": 3
   },
   "file_extension": ".py",
   "mimetype": "text/x-python",
   "name": "python",
   "nbconvert_exporter": "python",
   "pygments_lexer": "ipython3",
   "version": "3.13.5"
  }
 },
 "nbformat": 4,
 "nbformat_minor": 5
}
