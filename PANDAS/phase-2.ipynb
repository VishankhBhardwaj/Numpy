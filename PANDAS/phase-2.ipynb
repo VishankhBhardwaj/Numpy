{
 "cells": [
  {
   "cell_type": "markdown",
   "id": "3dacc762",
   "metadata": {},
   "source": [
    "## Ading column\n"
   ]
  },
  {
   "cell_type": "code",
   "execution_count": null,
   "id": "ee01ac8a",
   "metadata": {},
   "outputs": [
    {
     "name": "stdout",
     "output_type": "stream",
     "text": [
      "      Name  Age  Salary  Performance Score\n",
      "0    Alice   28   50000                 85\n",
      "1      Bob   34   60000                 90\n",
      "2  Charlie   25   45000                 78\n",
      "3    David   45   80000                 92\n",
      "4      Eva   30   55000                 88\n",
      "5    Frank   40   70000                 95\n",
      "      Name  Age  Salary  Performance Score   Bonus\n",
      "0    Alice   28   50000                 85  5000.0\n",
      "1      Bob   34   60000                 90  6000.0\n",
      "2  Charlie   25   45000                 78  4500.0\n",
      "3    David   45   80000                 92  8000.0\n",
      "4      Eva   30   55000                 88  5500.0\n",
      "5    Frank   40   70000                 95  7000.0\n",
      "   Employee ID     Name  Age  Salary  Performance Score   Bonus\n",
      "0          100    Alice   28   50000                 85  5000.0\n",
      "1           20      Bob   34   60000                 90  6000.0\n",
      "2           30  Charlie   25   45000                 78  4500.0\n",
      "3           40    David   45   80000                 92  8000.0\n",
      "4           50      Eva   30   55000                 88  5500.0\n",
      "5           60    Frank   40   70000                 95  7000.0\n",
      "   Employee ID     Name  Age  Salary  Performance Score   Bonus\n",
      "0          100    Alice   28     440                 85  5000.0\n",
      "1           20      Bob   34   60000                 90  6000.0\n",
      "2           30  Charlie   25   45000                 78  4500.0\n",
      "3           40    David   45   80000                 92  8000.0\n",
      "4           50      Eva   30   55000                 88  5500.0\n",
      "5           60    Frank   40   70000                 95  7000.0\n"
     ]
    }
   ],
   "source": [
    "import pandas as pd\n",
    "data = {\n",
    "    \"Name\": [\"Alice\", \"Bob\", \"Charlie\", \"David\", \"Eva\", \"Frank\"],\n",
    "    \"Age\": [28, 34, 25, 45, 30, 40],\n",
    "    \"Salary\": [50000, 60000, 45000, 80000, 55000, 70000],\n",
    "    \"Performance_Score\":[85,90,78,92,88,95]\n",
    "}\n",
    "df = pd.DataFrame(data);\n",
    "print(df);\n",
    "#square brackets df[\"column_name\" = some_Data]\n",
    "df[\"Bonus\"] = df[\"Salary\"] * 0.1\n",
    "print(df)\n",
    "\n",
    "\n",
    "#using insert()\n",
    "#df.insert(loc,\"column_name\",some_data)\n",
    "df.insert(0,\"Employee ID\",[100,20,30,40,50,60])\n",
    "print(df)\n",
    "\n",
    "#.loc[]\n",
    "# df.loc[row_index,\"column Name\"] = new_value\n",
    "df.loc[0,\"Salary\"] = 440\n",
    "print(df)"
   ]
  },
  {
   "cell_type": "markdown",
   "id": "b0e37ff4",
   "metadata": {},
   "source": [
    "## Updating"
   ]
  },
  {
   "cell_type": "code",
   "execution_count": 4,
   "id": "5f91d705",
   "metadata": {},
   "outputs": [
    {
     "name": "stdout",
     "output_type": "stream",
     "text": [
      "   Employee ID     Name  Age   Salary  Performance Score   Bonus\n",
      "0          100    Alice   28    462.0                 85  5000.0\n",
      "1           20      Bob   34  63000.0                 90  6000.0\n",
      "2           30  Charlie   25  47250.0                 78  4500.0\n",
      "3           40    David   45  84000.0                 92  8000.0\n",
      "4           50      Eva   30  57750.0                 88  5500.0\n",
      "5           60    Frank   40  73500.0                 95  7000.0\n"
     ]
    }
   ],
   "source": [
    "df[\"Salary\"] = df[\"Salary\"] * 1.05\n",
    "print(df)"
   ]
  },
  {
   "cell_type": "markdown",
   "id": "8ad4dc13",
   "metadata": {},
   "source": [
    "## Drop method"
   ]
  },
  {
   "cell_type": "code",
   "execution_count": 13,
   "id": "b1264a54",
   "metadata": {},
   "outputs": [
    {
     "name": "stdout",
     "output_type": "stream",
     "text": [
      "   Employee ID     Name   Salary   Bonus\n",
      "0          100    Alice    462.0  5000.0\n",
      "1           20      Bob  63000.0  6000.0\n",
      "2           30  Charlie  47250.0  4500.0\n",
      "3           40    David  84000.0  8000.0\n",
      "4           50      Eva  57750.0  5500.0\n",
      "5           60    Frank  73500.0  7000.0\n"
     ]
    }
   ],
   "source": [
    "#df.drop(columns = [\"ColumnName\"],inplace=True)\n",
    "# \"Performance_Score\" column does not exist in the current df, so nothing will be dropped.\n",
    "# If you want to drop an existing column, for example \"Bonus\", use:\n",
    "df.drop(columns=[\"Performance_Score\",\"Age\"], inplace=True, errors='ignore')\n",
    "print(df)"
   ]
  },
  {
   "cell_type": "markdown",
   "id": "21d9867f",
   "metadata": {},
   "source": [
    "## Explaination"
   ]
  },
  {
   "cell_type": "code",
   "execution_count": null,
   "id": "9a00c9f1",
   "metadata": {
    "vscode": {
     "languageId": "r"
    }
   },
   "outputs": [],
   "source": [
    "import pandas as pd\n",
    "\n",
    "# ===========================\n",
    "# Data Preparation and Manipulation with Pandas\n",
    "# ===========================\n",
    "\n",
    "# Importing pandas library for data manipulation\n",
    "\n",
    "# -----------------------------------------------\n",
    "# Creating a DataFrame from a dictionary\n",
    "# -----------------------------------------------\n",
    "data = {\n",
    "    \"Name\": [\"Alice\", \"Bob\", \"Charlie\", \"David\", \"Eva\", \"Frank\"],\n",
    "    \"Age\": [28, 34, 25, 45, 30, 40],\n",
    "    \"Salary\": [50000, 60000, 45000, 80000, 55000, 70000],\n",
    "    \"Performance_Score\": [85, 90, 78, 92, 88, 95]\n",
    "}\n",
    "df = pd.DataFrame(data)\n",
    "print(\"Initial DataFrame:\")\n",
    "print(df)\n",
    "\n",
    "# -----------------------------------------------\n",
    "# Adding a new column 'Bonus' to the DataFrame\n",
    "# -----------------------------------------------\n",
    "# The bonus is calculated as 10% of the Salary\n",
    "df[\"Bonus\"] = df[\"Salary\"] * 0.1\n",
    "print(\"\\nDataFrame after adding 'Bonus' column:\")\n",
    "print(df)\n",
    "\n",
    "# -----------------------------------------------\n",
    "# Inserting a new column 'Employee ID' at the beginning\n",
    "# -----------------------------------------------\n",
    "# Using the insert() method to add 'Employee ID' as the first column\n",
    "df.insert(0, \"Employee ID\", [100, 20, 30, 40, 50, 60])\n",
    "print(\"\\nDataFrame after inserting 'Employee ID' column:\")\n",
    "print(df)\n",
    "\n",
    "# -----------------------------------------------\n",
    "# Updating a specific value using .loc[]\n",
    "# -----------------------------------------------\n",
    "# Changing the 'Salary' of the first employee (index 0) to 440\n",
    "df.loc[0, \"Salary\"] = 440\n",
    "print(\"\\nDataFrame after updating Salary for first employee:\")\n",
    "print(df)\n",
    "\n",
    "# ===========================\n",
    "# Updating Columns\n",
    "# ===========================\n",
    "\n",
    "# -----------------------------------------------\n",
    "# Increasing all salaries by 5%\n",
    "# -----------------------------------------------\n",
    "df[\"Salary\"] = df[\"Salary\"] * 1.05\n",
    "print(\"\\nDataFrame after increasing all salaries by 5%:\")\n",
    "print(df)\n",
    "\n",
    "# ===========================\n",
    "# Dropping Columns\n",
    "# ===========================\n",
    "\n",
    "# -----------------------------------------------\n",
    "# Dropping 'Performance_Score' and 'Age' columns if they exist\n",
    "# -----------------------------------------------\n",
    "# The errors='ignore' parameter prevents errors if the columns do not exist\n",
    "df.drop(columns=[\"Performance_Score\", \"Age\"], inplace=True, errors='ignore')\n",
    "print(\"\\nDataFrame after dropping 'Performance_Score' and 'Age' columns:\")\n",
    "print(df)"
   ]
  },
  {
   "cell_type": "code",
   "execution_count": null,
   "id": "3e35f355",
   "metadata": {},
   "outputs": [],
   "source": []
  }
 ],
 "metadata": {
  "kernelspec": {
   "display_name": ".venv",
   "language": "python",
   "name": "python3"
  },
  "language_info": {
   "codemirror_mode": {
    "name": "ipython",
    "version": 3
   },
   "file_extension": ".py",
   "mimetype": "text/x-python",
   "name": "python",
   "nbconvert_exporter": "python",
   "pygments_lexer": "ipython3",
   "version": "3.13.5"
  }
 },
 "nbformat": 4,
 "nbformat_minor": 5
}
