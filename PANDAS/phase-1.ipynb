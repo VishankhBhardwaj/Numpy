{
 "cells": [
  {
   "cell_type": "markdown",
   "id": "12b64b71",
   "metadata": {},
   "source": [
    "## Getting started with pandas\n"
   ]
  },
  {
   "cell_type": "code",
   "execution_count": 5,
   "id": "05eef265",
   "metadata": {},
   "outputs": [],
   "source": [
    "import pandas as pd\n",
    "\n"
   ]
  },
  {
   "cell_type": "markdown",
   "id": "e8eb597b",
   "metadata": {},
   "source": [
    "## reading csv file"
   ]
  },
  {
   "cell_type": "code",
   "execution_count": 11,
   "id": "41b53ac0",
   "metadata": {},
   "outputs": [],
   "source": [
    "#read data from CSV file into dataframe\n",
    "\n",
    "df= pd.read_csv(\"sales_data_sample.csv\",encoding=\"latin1\")\n",
    "# print(df)"
   ]
  },
  {
   "cell_type": "markdown",
   "id": "d204599f",
   "metadata": {},
   "source": [
    "## reading xl file\n"
   ]
  },
  {
   "cell_type": "code",
   "execution_count": 12,
   "id": "6b39d94a",
   "metadata": {},
   "outputs": [],
   "source": [
    "\n",
    "\n",
    "# df = pd.read_excel(\"SampleSuperstore.xlsx\")\n",
    "# print(df)\n",
    "\n",
    "# jf = pd.read_json(\"sample_Data.json\")\n",
    "# print(\"json file data\")\n",
    "# print(jf)"
   ]
  },
  {
   "cell_type": "markdown",
   "id": "61772bd0",
   "metadata": {},
   "source": []
  },
  {
   "cell_type": "markdown",
   "id": "e799bb80",
   "metadata": {},
   "source": [
    "## Saving data"
   ]
  },
  {
   "cell_type": "code",
   "execution_count": 24,
   "id": "7ac9e6b8",
   "metadata": {},
   "outputs": [
    {
     "name": "stdout",
     "output_type": "stream",
     "text": [
      "        Name  Age     City\n",
      "0        Ram   10  \"Nagpur\n",
      "1      Shyam   20   Mumbai\n",
      "2  Ghanshyam   30    Delhi\n",
      "<class 'pandas.core.frame.DataFrame'>\n",
      "RangeIndex: 3 entries, 0 to 2\n",
      "Data columns (total 3 columns):\n",
      " #   Column  Non-Null Count  Dtype \n",
      "---  ------  --------------  ----- \n",
      " 0   Name    3 non-null      object\n",
      " 1   Age     3 non-null      int64 \n",
      " 2   City    3 non-null      object\n",
      "dtypes: int64(1), object(2)\n",
      "memory usage: 204.0+ bytes\n",
      "None\n"
     ]
    }
   ],
   "source": [
    "# Create a dictionary with sample data\n",
    "data = {\n",
    "    \"Name\": [\"Ram\", \"Shyam\", \"Ghanshyam\"],\n",
    "    \"Age\": [10, 20, 30],\n",
    "    \"City\": ['\"Nagpur', 'Mumbai', 'Delhi']\n",
    "}\n",
    "\n",
    "# Convert the dictionary into a pandas DataFrame\n",
    "df = pd.DataFrame(data)\n",
    "\n",
    "# Print the DataFrame to display its contents\n",
    "print(df)\n",
    "print(df.info())\n",
    "\n",
    "# Save the DataFrame to a CSV file named \"output.csv\"\n",
    "# df.to_csv(\"output.csv\",index = False) #index hta dia\n",
    "\n",
    "\n",
    "# Save the DataFrame to an Excel file named \"output.xlsx\"\n",
    "# The index parameter is set to False to avoid writing row indices\n",
    "# df.to_excel(\"output.xlsx\",index = False)\n",
    "\n",
    "df.to_json(\"output.json\",index = False)"
   ]
  },
  {
   "cell_type": "markdown",
   "id": "77c72a98",
   "metadata": {},
   "source": [
    "## Rows"
   ]
  },
  {
   "cell_type": "code",
   "execution_count": null,
   "id": "78a606a6",
   "metadata": {},
   "outputs": [
    {
     "name": "stdout",
     "output_type": "stream",
     "text": [
      "Display 10 rows of first\n",
      "   id                                         name  \\\n",
      "0   1                              Apple iPhone 12   \n",
      "1   2                           Samsung Galaxy S21   \n",
      "2   3                           Sony PlayStation 5   \n",
      "3   4            LG OLED55CXPUA 55-inch 4K OLED TV   \n",
      "4   5  Bose QuietComfort 35 II Wireless Headphones   \n",
      "5   6                    Fitbit Versa 3 Smartwatch   \n",
      "6   7                       KitchenAid Stand Mixer   \n",
      "7   8           Dyson V11 Absolute Cordless Vacuum   \n",
      "8   9                   Ninja Foodi Smart XL Grill   \n",
      "9  10              Canon EOS Rebel T8i DSLR Camera   \n",
      "\n",
      "                                         description    price  \\\n",
      "0  The Apple iPhone 12 features a 6.1-inch Super ...   999.00   \n",
      "1  The Samsung Galaxy S21 features a 6.2-inch Dyn...   799.00   \n",
      "2  The Sony PlayStation 5 features an AMD Zen 2-b...   499.99   \n",
      "3  The LG OLED55CXPUA 55-inch 4K OLED TV features...  1599.99   \n",
      "4  The Bose QuietComfort 35 II Wireless Headphone...   299.00   \n",
      "5  The Fitbit Versa 3 Smartwatch features a built...   229.95   \n",
      "6  The KitchenAid Stand Mixer features a 5-quart ...   399.99   \n",
      "7  The Dyson V11 Absolute Cordless Vacuum feature...   699.99   \n",
      "8  The Ninja Foodi Smart XL Grill features 6-in-1...   279.99   \n",
      "9  The Canon EOS Rebel T8i DSLR Camera features a...   899.00   \n",
      "\n",
      "          category                                              image  \n",
      "0      Electronics  https://www.apple.com/newsroom/images/product/...  \n",
      "1      Electronics  https://images.samsung.com/is/image/samsung/p6...  \n",
      "2      Electronics  https://www.sony.com/image/44baa604124b770c824...  \n",
      "3      Electronics  https://www.lg.com/us/images/tvs/md07501804/ga...  \n",
      "4      Electronics  https://assets.bose.com/content/dam/Bose_DAM/W...  \n",
      "5      Electronics  https://www.fitbit.com/global/content/dam/fitb...  \n",
      "6   Home & Kitchen  https://www.kitchenaid.com/content/dam/global/...  \n",
      "7  Home Appliances  https://www.dysoncanada.ca/dam/dyson/images/pr...  \n",
      "8   Home & Kitchen  https://www.ninjakitchen.com/medias/Ninja-OP50...  \n",
      "9      Electronics  https://www.canon.com.au/-/media/images/produc...  \n",
      "10 rows of last\n",
      "    id                                               name  \\\n",
      "10  11                                  Apple AirPods Pro   \n",
      "11  12        Bose QuietComfort 35 II Wireless Headphones   \n",
      "12  13                    Fitbit Charge 4 Fitness Tracker   \n",
      "13  14                              Samsung Galaxy Watch3   \n",
      "14  15  Sony WH-1000XM4 Wireless Noise-Cancelling Head...   \n",
      "15  16          Breville Barista Express Espresso Machine   \n",
      "16  17                        Keurig K-Elite Coffee Maker   \n",
      "17  18                     iRobot Roomba i7+ Robot Vacuum   \n",
      "18  19                   Ninja Foodi Digital Air Fry Oven   \n",
      "19  20                   Cuisinart ICE-70 Ice Cream Maker   \n",
      "\n",
      "                                          description   price        category  \\\n",
      "10  The Apple AirPods Pro feature active noise can...  249.00     Electronics   \n",
      "11  The Bose QuietComfort 35 II Wireless Headphone...  299.00     Electronics   \n",
      "12  The Fitbit Charge 4 Fitness Tracker features G...  129.95     Electronics   \n",
      "13  The Samsung Galaxy Watch3 features a rotating ...  399.99     Electronics   \n",
      "14  The Sony WH-1000XM4 Wireless Noise-Cancelling ...  349.99     Electronics   \n",
      "15  The Breville Barista Express Espresso Machine ...  699.95  Home & Kitchen   \n",
      "16  The Keurig K-Elite Coffee Maker features a str...  169.99  Home & Kitchen   \n",
      "17  The iRobot Roomba i7+ Robot Vacuum features au...  799.99  Home & Kitchen   \n",
      "18  The Ninja Foodi Digital Air Fry Oven features ...  209.99  Home & Kitchen   \n",
      "19  The Cuisinart ICE-70 Ice Cream Maker features ...  139.99  Home & Kitchen   \n",
      "\n",
      "                                                image  \n",
      "10  https://www.apple.com/v/airpods-pro/b/images/m...  \n",
      "11  https://assets.bose.com/content/dam/Bose_DAM/W...  \n",
      "12  https://www.fitbit.com/global/content/dam/fitb...  \n",
      "13  https://images.samsung.com/is/image/samsung/as...  \n",
      "14  https://www.sony.com/image/1cdd6354c4cd21cc4f7...  \n",
      "15  https://www.breville.com/content/dam/breville/...  \n",
      "16  https://www.keurig.com/content/dam/global-ecom...  \n",
      "17  https://store.irobot.com/default/i7-vacuuming-...  \n",
      "18  https://www.ninjakitchen.com/static/img/produc...  \n",
      "19  https://www.cuisinart.com/share/images/product...  \n"
     ]
    }
   ],
   "source": [
    "#head() tail()\n",
    "#head() 5 \n",
    "#tail(n) 5\n",
    "\n",
    "\n",
    "df = pd.read_json(\"sample_Data.json\")\n",
    "\n",
    "print(\"Display 10 rows of first\")\n",
    "print(df.head(10))\n",
    "\n",
    "print(\"10 rows of last\")\n",
    "print(df.tail(10))"
   ]
  },
  {
   "cell_type": "markdown",
   "id": "5af7e8d2",
   "metadata": {},
   "source": [
    "## Analysing the data"
   ]
  },
  {
   "cell_type": "code",
   "execution_count": 23,
   "id": "a4ba3bdc",
   "metadata": {},
   "outputs": [
    {
     "name": "stdout",
     "output_type": "stream",
     "text": [
      "Displaying the info of data set\n",
      "<class 'pandas.core.frame.DataFrame'>\n",
      "RangeIndex: 20 entries, 0 to 19\n",
      "Data columns (total 6 columns):\n",
      " #   Column       Non-Null Count  Dtype  \n",
      "---  ------       --------------  -----  \n",
      " 0   id           20 non-null     int64  \n",
      " 1   name         20 non-null     object \n",
      " 2   description  20 non-null     object \n",
      " 3   price        20 non-null     float64\n",
      " 4   category     20 non-null     object \n",
      " 5   image        20 non-null     object \n",
      "dtypes: float64(1), int64(1), object(4)\n",
      "memory usage: 1.1+ KB\n",
      "None\n"
     ]
    }
   ],
   "source": [
    "df=pd.read_json(\"sample_Data.json\")\n",
    "print(\"Displaying the info of data set\")\n",
    "print(df.info())"
   ]
  },
  {
   "cell_type": "markdown",
   "id": "6c2d1e0b",
   "metadata": {},
   "source": [
    "## Describe method\n",
    "The `describe()` method in pandas is used to generate descriptive statistics of a DataFrame, such as count, mean, standard deviation, minimum, maximum, and quartile values for numeric columns. It provides a quick overview of the distribution and central tendencies of your data."
   ]
  },
  {
   "cell_type": "code",
   "execution_count": 26,
   "id": "fcfafbc8",
   "metadata": {},
   "outputs": [
    {
     "name": "stdout",
     "output_type": "stream",
     "text": [
      "Sample DataFrame\n",
      "      Name  Age  Salary  Performance Score\n",
      "0    Alice   28   50000                 85\n",
      "1      Bob   34   60000                 90\n",
      "2  Charlie   25   45000                 78\n",
      "3    David   45   80000                 92\n",
      "4      Eva   30   55000                 88\n",
      "5    Frank   40   70000                 95\n",
      "Descriptive Statistics\n",
      "             Age       Salary  Performance Score\n",
      "count   6.000000      6.00000           6.000000\n",
      "mean   33.666667  60000.00000          88.000000\n",
      "std     7.607014  13038.40481           5.966574\n",
      "min    25.000000  45000.00000          78.000000\n",
      "25%    28.500000  51250.00000          85.750000\n",
      "50%    32.000000  57500.00000          89.000000\n",
      "75%    38.500000  67500.00000          91.500000\n",
      "max    45.000000  80000.00000          95.000000\n"
     ]
    }
   ],
   "source": [
    "data = {\n",
    "    \"Name\": [\"Alice\", \"Bob\", \"Charlie\", \"David\", \"Eva\", \"Frank\"],\n",
    "    \"Age\": [28, 34, 25, 45, 30, 40],\n",
    "    \"Salary\": [50000, 60000, 45000, 80000, 55000, 70000],\n",
    "    \"Performance Score\":[85,90,78,92,88,95]\n",
    "}\n",
    "\n",
    "df=pd.DataFrame(data)\n",
    "print(\"Sample DataFrame\")\n",
    "print(df)\n",
    "print(\"Descriptive Statistics\")\n",
    "print(df.describe())\n"
   ]
  },
  {
   "cell_type": "code",
   "execution_count": null,
   "id": "c048e293",
   "metadata": {},
   "outputs": [
    {
     "name": "stdout",
     "output_type": "stream",
     "text": [
      "      Name  Age  Salary  Performance Score\n",
      "0    Alice   28   50000                 85\n",
      "1      Bob   34   60000                 90\n",
      "2  Charlie   25   45000                 78\n",
      "3    David   45   80000                 92\n",
      "4      Eva   30   55000                 88\n",
      "5    Frank   40   70000                 95\n",
      "Shape (6, 4)\n",
      "Column Names: Index(['Name', 'Age', 'Salary', 'Performance Score'], dtype='object')\n"
     ]
    }
   ],
   "source": [
    "\"\"\"1- how big is your dataset\n",
    "2- what are the names of the column\n",
    "\n",
    "\n",
    "shape and columns \"\"\"\n",
    "data = {\n",
    "    \"Name\": [\"Alice\", \"Bob\", \"Charlie\", \"David\", \"Eva\", \"Frank\"],\n",
    "    \"Age\": [28, 34, 25, 45, 30, 40],\n",
    "    \"Salary\": [50000, 60000, 45000, 80000, 55000, 70000],\n",
    "    \"Performance Score\":[85,90,78,92,88,95]\n",
    "}\n",
    "\n",
    "df = pd.DataFrame(data)\n",
    "print(df)\n",
    "print(\"Shape\",df.shape)\n",
    "print(\"Column Names:\",df.columns)\n",
    "\n",
    "\n",
    "\"\"\"\n",
    "    (10000,2)\n",
    "    (5,4)\n",
    "     \n",
    "\"\"\"\n"
   ]
  },
  {
   "cell_type": "markdown",
   "id": "559bf25f",
   "metadata": {},
   "source": [
    "## Example 5"
   ]
  },
  {
   "cell_type": "code",
   "execution_count": 32,
   "id": "7aaa2596",
   "metadata": {},
   "outputs": [
    {
     "name": "stdout",
     "output_type": "stream",
     "text": [
      "Sample dataFrame\n",
      "      Name  Age  Salary  Performance Score\n",
      "0    Alice   28   50000                 85\n",
      "1      Bob   34   60000                 90\n",
      "2  Charlie   25   45000                 78\n",
      "3    David   45   80000                 92\n",
      "4      Eva   30   55000                 88\n",
      "5    Frank   40   70000                 95\n",
      "Names (Single column return series)\n",
      "0      Alice\n",
      "1        Bob\n",
      "2    Charlie\n",
      "3      David\n",
      "4        Eva\n",
      "5      Frank\n",
      "Name: Name, dtype: object\n",
      "\n",
      " Subset with name and Salary\n",
      "      Name  Salary\n",
      "0    Alice   50000\n",
      "1      Bob   60000\n",
      "2  Charlie   45000\n",
      "3    David   80000\n",
      "4      Eva   55000\n",
      "5    Frank   70000\n"
     ]
    }
   ],
   "source": [
    "data = {\n",
    "    \"Name\": [\"Alice\", \"Bob\", \"Charlie\", \"David\", \"Eva\", \"Frank\"],\n",
    "    \"Age\": [28, 34, 25, 45, 30, 40],\n",
    "    \"Salary\": [50000, 60000, 45000, 80000, 55000, 70000],\n",
    "    \"Performance Score\":[85,90,78,92,88,95]\n",
    "}\n",
    "\n",
    "df = pd.DataFrame(data)\n",
    "\n",
    "#display the dataframe\n",
    "print(\"Sample dataFrame\")\n",
    "print(df)\n",
    "#selecting a column\n",
    "print(\"Names (Single column return series)\")\n",
    "name = df[\"Name\"]\n",
    "print(name)\n",
    "\n",
    "# selecting multiple columns\n",
    "subset = df[[\"Name\",\"Salary\"]]\n",
    "print(\"\\n Subset with name and Salary\")\n",
    "print(subset)"
   ]
  },
  {
   "cell_type": "markdown",
   "id": "4d2db042",
   "metadata": {},
   "source": [
    "# Filtering Rows"
   ]
  },
  {
   "cell_type": "code",
   "execution_count": 36,
   "id": "c7d281eb",
   "metadata": {},
   "outputs": [
    {
     "name": "stdout",
     "output_type": "stream",
     "text": [
      "Employee with salary greater than 50000\n",
      "    Name  Age  Salary  Performance Score\n",
      "1    Bob   34   60000                 90\n",
      "3  David   45   80000                 92\n",
      "4    Eva   30   55000                 88\n",
      "5  Frank   40   70000                 95\n",
      "Employee list age > 30 + Salary > 50000\n",
      "    Name  Age  Salary  Performance Score\n",
      "1    Bob   34   60000                 90\n",
      "3  David   45   80000                 92\n",
      "5  Frank   40   70000                 95\n",
      "Employees older than 35 or perfomance score >90\n",
      "    Name  Age  Salary  Performance Score\n",
      "3  David   45   80000                 92\n",
      "5  Frank   40   70000                 95\n"
     ]
    }
   ],
   "source": [
    "data = {\n",
    "    \"Name\": [\"Alice\", \"Bob\", \"Charlie\", \"David\", \"Eva\", \"Frank\"],\n",
    "    \"Age\": [28, 34, 25, 45, 30, 40],\n",
    "    \"Salary\": [50000, 60000, 45000, 80000, 55000, 70000],\n",
    "    \"Performance Score\":[85,90,78,92,88,95]\n",
    "}\n",
    "df = pd.DataFrame(data)\n",
    "high_salary = df[df[\"Salary\"]>50000]\n",
    "print(\"Employee with salary greater than 50000\")\n",
    "print(high_salary)\n",
    "\n",
    "\n",
    "#Applying multiple conditions\n",
    "\n",
    "filtered = df[(df[\"Age\"]>30) & (df[\"Salary\"]>50000)]\n",
    "print(\"Employee list age > 30 + Salary > 50000\")\n",
    "print(filtered)\n",
    "\n",
    "#using or condition\n",
    "filtered_or = df[(df[\"Age\"]>100) | (df[\"Performance Score\"] >90)]\n",
    "print(\"Employees older than 35 or perfomance score >90\")\n",
    "print(filtered_or)"
   ]
  },
  {
   "cell_type": "code",
   "execution_count": null,
   "id": "dd274cee",
   "metadata": {},
   "outputs": [],
   "source": []
  }
 ],
 "metadata": {
  "kernelspec": {
   "display_name": ".venv",
   "language": "python",
   "name": "python3"
  },
  "language_info": {
   "codemirror_mode": {
    "name": "ipython",
    "version": 3
   },
   "file_extension": ".py",
   "mimetype": "text/x-python",
   "name": "python",
   "nbconvert_exporter": "python",
   "pygments_lexer": "ipython3",
   "version": "3.13.5"
  }
 },
 "nbformat": 4,
 "nbformat_minor": 5
}
