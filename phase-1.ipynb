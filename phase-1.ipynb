{
 "cells": [
  {
   "cell_type": "markdown",
   "id": "97c1a89c",
   "metadata": {},
   "source": [
    "## Numpy array and basics\n",
    "learn about numpy with chai aur code"
   ]
  },
  {
   "cell_type": "code",
   "execution_count": 5,
   "id": "9bfb324f",
   "metadata": {},
   "outputs": [],
   "source": [
    "import numpy as np"
   ]
  },
  {
   "cell_type": "markdown",
   "id": "36e0f5cb",
   "metadata": {},
   "source": [
    "## creating array from list\n",
    "\n"
   ]
  },
  {
   "cell_type": "code",
   "execution_count": 18,
   "id": "fa302b69",
   "metadata": {},
   "outputs": [
    {
     "name": "stdout",
     "output_type": "stream",
     "text": [
      "1d array: [1 2 3 4 5 6]\n",
      "2D array: [[1 2 3]\n",
      " [4 5 6]]\n"
     ]
    }
   ],
   "source": [
    "\n",
    "\n",
    "arr_1d=np.array([1,2,3,4,5,6])\n",
    "print(\"1d array:\",arr_1d)\n",
    "\n",
    "\n",
    "arr_2d=np.array([[1,2,3],[4,5,6]])\n",
    "print(\"2D array:\",arr_2d)"
   ]
  },
  {
   "cell_type": "markdown",
   "id": "b292949b",
   "metadata": {},
   "source": [
    "### List vs numpy array\n"
   ]
  },
  {
   "cell_type": "code",
   "execution_count": 19,
   "id": "9b2b831f",
   "metadata": {},
   "outputs": [
    {
     "name": "stdout",
     "output_type": "stream",
     "text": [
      "Python list multiplication [1, 2, 3, 1, 2, 3]\n",
      "Python array multiplication [2 4 6]\n",
      "\n",
      " List operation time: 0.06080818176269531\n",
      "\n",
      " Numpy operation time: 0.003380298614501953\n"
     ]
    }
   ],
   "source": [
    "py_list=[1,2,3]\n",
    "print(\"Python list multiplication\",py_list*2)\n",
    "\n",
    "np_array=np.array([1,2,3]) #element wise multiplication\n",
    "print(\"Python array multiplication\",np_array*2)\n",
    "\n",
    "import time\n",
    "start=time.time()\n",
    "py_list=[i*2 for i in range(1000000)]\n",
    "print(\"\\n List operation time:\",time.time()-start)\n",
    "\n",
    "start=time.time()\n",
    "np_array=np.arange(1000000) * 2\n",
    "print(\"\\n Numpy operation time:\",time.time()-start)\n"
   ]
  },
  {
   "cell_type": "markdown",
   "id": "d0ea096d",
   "metadata": {},
   "source": [
    "### Creating arrays from scratch\n"
   ]
  },
  {
   "cell_type": "code",
   "execution_count": null,
   "id": "fa8d0234",
   "metadata": {},
   "outputs": [
    {
     "name": "stdout",
     "output_type": "stream",
     "text": [
      "zeros array:\n",
      " [[0. 0. 0. 0.]\n",
      " [0. 0. 0. 0.]\n",
      " [0. 0. 0. 0.]]\n",
      "one array:\n",
      " [[1. 1. 1.]\n",
      " [1. 1. 1.]]\n",
      "full array:\n",
      " [[7 7]\n",
      " [7 7]]\n",
      "random array:\n",
      " [[0.97636769 0.66652389 0.59337717]\n",
      " [0.01719626 0.58241746 0.61828295]]\n",
      "sequence array:\n",
      " [0 2 4 6 8]\n"
     ]
    }
   ],
   "source": [
    "# create an array of zeros with shape (3,4)\n",
    "zeros = np.zeros((3,4))  # function for creating array of zeros by giving rows and columns\n",
    "print(\"zeros array:\\n\", zeros)\n",
    "\n",
    "# create an array of ones with shape (2,3)\n",
    "ones = np.ones((2,3))  # function for creating array of ones\n",
    "print(\"one array:\\n\", ones)\n",
    "\n",
    "# create an array filled with the value 7, shape (2,2)\n",
    "full = np.full((2,2), 7)  # function for creating array with a constant value\n",
    "print(\"full array:\\n\", full)\n",
    "\n",
    "# create an array with random values between 0 and 1, shape (2,3)\n",
    "random = np.random.random((2,3))  # function for creating array with random values\n",
    "print(\"random array:\\n\", random)\n",
    "\n",
    "# create a sequence of numbers from 0 to 8 with step 2\n",
    "sequence = np.arange(0, 10, 2)  # function for creating a sequence of numbers\n",
    "print(\"sequence array:\\n\", sequence)\n",
    "\n"
   ]
  },
  {
   "cell_type": "markdown",
   "id": "b36363e9",
   "metadata": {},
   "source": [
    "### vector,Matrix and Tensor\n"
   ]
  },
  {
   "cell_type": "code",
   "execution_count": null,
   "id": "b357f57a",
   "metadata": {},
   "outputs": [
    {
     "name": "stdout",
     "output_type": "stream",
     "text": [
      "vector: [1 2 3]\n",
      "matrix: [[1 2 3]\n",
      " [4 5 6]]\n",
      "tensor [[[1 2]\n",
      "  [3 4]]\n",
      "\n",
      " [[5 6]\n",
      "  [7 8]]]\n"
     ]
    }
   ],
   "source": [
    "vector=np.array([1,2,3])\n",
    "print(\"vector:\",vector)\n",
    "\n",
    "matrix = np.array([[1,2,3],\n",
    "                   [4,5,6]])\n",
    "print(\"matrix:\",matrix)\n",
    "# vector: 1D array, represents a simple list of numbers (rank 1 tensor)\n",
    "# matrix: 2D array, represents a table of numbers with rows and columns (rank 2 tensor)\n",
    "\n",
    "tensor = np.array([[[1,2],[3,4]],\n",
    "                   [[5,6],[7,8]]])\n",
    "print(\"tensor\",tensor)"
   ]
  },
  {
   "cell_type": "markdown",
   "id": "fbc0f29f",
   "metadata": {},
   "source": [
    "### Array properties"
   ]
  },
  {
   "cell_type": "code",
   "execution_count": null,
   "id": "e75dc64c",
   "metadata": {},
   "outputs": [
    {
     "name": "stdout",
     "output_type": "stream",
     "text": [
      "shape (2, 3)\n",
      "Dimension 2\n",
      "size 6\n",
      "Dtype int64\n"
     ]
    }
   ],
   "source": [
    "arr=np.array([[1,2,3],\n",
    "              [4,5,6]])# arr is a 2D numpy array with shape (2, 3)\n",
    "print(\"shape\", arr.shape)      # prints the shape of the array (rows, columns)\n",
    "print(\"Dimension\", arr.ndim)   # prints the number of dimensions (axes) of the array\n",
    "print(\"size\", arr.size)        # prints the total number of elements in the array\n",
    "print(\"Dtype\", arr.dtype)      # prints the data type of the array elements\n"
   ]
  },
  {
   "cell_type": "markdown",
   "id": "393cd994",
   "metadata": {},
   "source": [
    "Array Reshaping"
   ]
  },
  {
   "cell_type": "code",
   "execution_count": 41,
   "id": "118c2e48",
   "metadata": {},
   "outputs": [
    {
     "name": "stdout",
     "output_type": "stream",
     "text": [
      "Original array [ 0  1  2  3  4  5  6  7  8  9 10 11]\n",
      "reshaped array [[ 0  1  2  3]\n",
      " [ 4  5  6  7]\n",
      " [ 8  9 10 11]]\n",
      "\n",
      " Flattened array [ 0  1  2  3  4  5  6  7  8  9 10 11]\n",
      "\n",
      " raveled array [ 0  1  2  3  4  5  6  7  8  9 10 11]\n",
      "\n",
      " Transposed array [[ 0  4  8]\n",
      " [ 1  5  9]\n",
      " [ 2  6 10]\n",
      " [ 3  7 11]]\n"
     ]
    }
   ],
   "source": [
    "# create a 1D numpy array with values from 0 to 11\n",
    "arr = np.arange(12)\n",
    "print(\"Original array\", arr)\n",
    "\n",
    "# reshape the 1D array into a 2D array with 3 rows and 4 columns\n",
    "reshaped = arr.reshape((3, 4))\n",
    "print(\"reshaped array\", reshaped)\n",
    "\n",
    "# flatten the 2D array back to 1D (returns a copy)\n",
    "flattened = reshaped.flatten()\n",
    "print(\"\\n Flattened array\", flattened)\n",
    "\n",
    "# ravel the 2D array back to 1D (returns a view if possible)\n",
    "raveled = reshaped.ravel()\n",
    "print(\"\\n raveled array\", raveled)\n",
    "\n",
    "\n",
    "#Transpose\n",
    "transpose=reshaped.T\n",
    "print(\"\\n Transposed array\",transpose)"
   ]
  },
  {
   "cell_type": "markdown",
   "id": "fe2fb3bc",
   "metadata": {},
   "source": []
  },
  {
   "cell_type": "markdown",
   "id": "29eec6a1",
   "metadata": {},
   "source": []
  }
 ],
 "metadata": {
  "kernelspec": {
   "display_name": ".venv",
   "language": "python",
   "name": "python3"
  },
  "language_info": {
   "codemirror_mode": {
    "name": "ipython",
    "version": 3
   },
   "file_extension": ".py",
   "mimetype": "text/x-python",
   "name": "python",
   "nbconvert_exporter": "python",
   "pygments_lexer": "ipython3",
   "version": "3.13.5"
  }
 },
 "nbformat": 4,
 "nbformat_minor": 5
}
