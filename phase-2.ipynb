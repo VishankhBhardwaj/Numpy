{
 "cells": [
  {
   "cell_type": "markdown",
   "id": "d45ce2bc",
   "metadata": {},
   "source": [
    "## Numpy Array Operations"
   ]
  },
  {
   "cell_type": "code",
   "execution_count": 2,
   "id": "e8b69f25",
   "metadata": {},
   "outputs": [],
   "source": [
    "import numpy as np"
   ]
  },
  {
   "cell_type": "code",
   "execution_count": 4,
   "id": "0ccd5068",
   "metadata": {},
   "outputs": [
    {
     "name": "stdout",
     "output_type": "stream",
     "text": [
      "Basic Slicing [3 4 5 6 7]\n",
      "with Stap [2 4 6 8]\n",
      "Negative Indexing 8\n"
     ]
    }
   ],
   "source": [
    "arr=np.array([1,2,3,4,5,6,7,8,9,10])\n",
    "print(\"Basic Slicing\",arr[2:7])\n",
    "print(\"with Stap\",arr[1:8:2])\n",
    "print(\"Negative Indexing\",arr[-3])"
   ]
  },
  {
   "cell_type": "code",
   "execution_count": 13,
   "id": "b3597168",
   "metadata": {},
   "outputs": [
    {
     "name": "stdout",
     "output_type": "stream",
     "text": [
      "Specific element 6\n",
      "Entire row [4 5 6]\n",
      "Entire column [2 5 8]\n"
     ]
    }
   ],
   "source": [
    "arr_2d=np.array([[1,2,3],\n",
    "                 [4,5,6],\n",
    "                 [7,8,9]])\n",
    "print(\"Specific element\",arr_2d[1,2])\n",
    "print(\"Entire row\",arr_2d[1])\n",
    "print(\"Entire column\",arr_2d[:,1])"
   ]
  },
  {
   "cell_type": "markdown",
   "id": "f13abd9a",
   "metadata": {},
   "source": [
    "## Sorting"
   ]
  },
  {
   "cell_type": "code",
   "execution_count": null,
   "id": "6c913afe",
   "metadata": {},
   "outputs": [
    {
     "name": "stdout",
     "output_type": "stream",
     "text": [
      "Sorted array [1 2 3 4 5 6 7 8]\n",
      "Sorted 2D array by column [[1 3]\n",
      " [1 2]\n",
      " [2 3]]\n"
     ]
    }
   ],
   "source": [
    "unsorted_arr=np.array([1,4,5,2,6,3,7,8])\n",
    "print(\"Sorted array\",np.sort(unsorted_arr))\n",
    "\n",
    "\n",
    "arr_2d_unsorted = np.array([[3,1],[1,2],[2,3]])\n",
    "print(\"Sorted 2D array by column\",np.sort(arr_2d_unsorted,axis=0))"
   ]
  },
  {
   "cell_type": "markdown",
   "id": "6dc7b6a4",
   "metadata": {},
   "source": [
    "## Filter\n"
   ]
  },
  {
   "cell_type": "code",
   "execution_count": 18,
   "id": "20732646",
   "metadata": {},
   "outputs": [
    {
     "name": "stdout",
     "output_type": "stream",
     "text": [
      "Even numbers [ 2  4  6  8 10]\n"
     ]
    }
   ],
   "source": [
    "numbers = np.array([1,2,3,4,5,6,7,8,9,10])\n",
    "even_number = numbers[numbers %2 == 0]\n",
    "print(\"Even numbers\",even_number)"
   ]
  },
  {
   "cell_type": "markdown",
   "id": "1cafa7fe",
   "metadata": {},
   "source": [
    "## Filter with mask"
   ]
  },
  {
   "cell_type": "code",
   "execution_count": 19,
   "id": "273cdcff",
   "metadata": {},
   "outputs": [
    {
     "name": "stdout",
     "output_type": "stream",
     "text": [
      "Numbers greater than 5 [ 6  7  8  9 10]\n"
     ]
    }
   ],
   "source": [
    "mask = numbers > 5\n",
    "print(\"Numbers greater than 5\",numbers[mask])"
   ]
  },
  {
   "cell_type": "markdown",
   "id": "b2c96a3b",
   "metadata": {},
   "source": [
    "## Fancy indexing  vs np.where()"
   ]
  },
  {
   "cell_type": "code",
   "execution_count": null,
   "id": "37113acf",
   "metadata": {},
   "outputs": [
    {
     "name": "stdout",
     "output_type": "stream",
     "text": [
      "[1 3 5]\n",
      "No where [ 6  7  8  9 10]\n"
     ]
    }
   ],
   "source": [
    "indices=[0,2,4]\n",
    "print(numbers[indices])\n",
    "\n",
    "where_result = np.where(numbers>5)\n",
    "print(\"NP where\",numbers[where_result])"
   ]
  },
  {
   "cell_type": "code",
   "execution_count": 32,
   "id": "84341329",
   "metadata": {},
   "outputs": [
    {
     "name": "stdout",
     "output_type": "stream",
     "text": [
      "[ 1  2  3  4  5 12 14 16 18 20]\n",
      "['false' 'false' 'false' 'false' 'false' 'true' 'true' 'true' 'true'\n",
      " 'true']\n"
     ]
    }
   ],
   "source": [
    "condition_array = np.where(numbers > 5,numbers*2,numbers)\n",
    "print(condition_array)\n",
    "condition_array2= np.where(numbers > 5,\"true\",\"false\")\n",
    "print(condition_array2)"
   ]
  },
  {
   "cell_type": "markdown",
   "id": "057cf912",
   "metadata": {},
   "source": [
    "## Adding and removing data\n"
   ]
  },
  {
   "cell_type": "code",
   "execution_count": 36,
   "id": "a4c3cadb",
   "metadata": {},
   "outputs": [
    {
     "name": "stdout",
     "output_type": "stream",
     "text": [
      "[1 2 3 4 5 6 7 8]\n"
     ]
    }
   ],
   "source": [
    "arr1 = np.array([1,2,3,4])\n",
    "arr2 = np.array([5,6,7,8])\n",
    "combined = np.concatenate((arr1,arr2))\n",
    "print(combined)"
   ]
  },
  {
   "cell_type": "markdown",
   "id": "12198d80",
   "metadata": {},
   "source": [
    "## array compatibility"
   ]
  },
  {
   "cell_type": "code",
   "execution_count": 41,
   "id": "2b300ce0",
   "metadata": {},
   "outputs": [
    {
     "name": "stdout",
     "output_type": "stream",
     "text": [
      "compatibility shapes True\n",
      "compatibility shapes False\n"
     ]
    }
   ],
   "source": [
    "a = np.array([1,2,3])\n",
    "b = np.array([4,5,6])\n",
    "c = np.array([7,8,9])\n",
    "d = np.array([10,11,12,13])\n",
    "print(\"compatibility shapes\",a.shape == b.shape)\n",
    "print(\"compatibility shapes\",a.shape == d.shape)"
   ]
  },
  {
   "cell_type": "markdown",
   "id": "b1806a45",
   "metadata": {},
   "source": [
    "## Compatibility shapes False\n"
   ]
  },
  {
   "cell_type": "code",
   "execution_count": 47,
   "id": "a8763e83",
   "metadata": {},
   "outputs": [
    {
     "name": "stdout",
     "output_type": "stream",
     "text": [
      "[[1 2]\n",
      " [3 4]]\n",
      "[[1 2]\n",
      " [3 4]\n",
      " [5 6]]\n",
      "[[1 2 7]\n",
      " [3 4 8]]\n"
     ]
    }
   ],
   "source": [
    "# np.vstack stacks arrays in sequence vertically (row wise)\n",
    "original = np.array([[1,2],[3,4]])\n",
    "new_row = np.array([[5,6]])\n",
    "with_new_row = np.vstack((original, new_row))\n",
    "print(original)\n",
    "print(with_new_row)\n",
    "\n",
    "new_col = np.array([[7],[8]])\n",
    "with_new_col = np.hstack((original,new_col))\n",
    "print(with_new_col)"
   ]
  },
  {
   "cell_type": "code",
   "execution_count": 50,
   "id": "6c9d7361",
   "metadata": {},
   "outputs": [
    {
     "name": "stdout",
     "output_type": "stream",
     "text": [
      "[1 2 4 5]\n"
     ]
    }
   ],
   "source": [
    "arr = np.array([1,2,3,4,5])\n",
    "deleted = np.delete(arr,2)\n",
    "print(deleted)"
   ]
  },
  {
   "cell_type": "code",
   "execution_count": null,
   "id": "f9a4d4e3",
   "metadata": {},
   "outputs": [],
   "source": []
  }
 ],
 "metadata": {
  "kernelspec": {
   "display_name": ".venv",
   "language": "python",
   "name": "python3"
  },
  "language_info": {
   "codemirror_mode": {
    "name": "ipython",
    "version": 3
   },
   "file_extension": ".py",
   "mimetype": "text/x-python",
   "name": "python",
   "nbconvert_exporter": "python",
   "pygments_lexer": "ipython3",
   "version": "3.13.5"
  }
 },
 "nbformat": 4,
 "nbformat_minor": 5
}
