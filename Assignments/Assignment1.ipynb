{
 "cells": [
  {
   "cell_type": "markdown",
   "id": "cf9073a5",
   "metadata": {},
   "source": [
    "### 1. Write a program or a function definition named is_multiple_of_three that takes in a number\n",
    "### and returns True or False if the number is evenly divisible by 3."
   ]
  },
  {
   "cell_type": "code",
   "execution_count": 2,
   "id": "20b30ebd",
   "metadata": {},
   "outputs": [
    {
     "name": "stdout",
     "output_type": "stream",
     "text": [
      "True\n"
     ]
    }
   ],
   "source": [
    "def is_multiple_of_three(a):\n",
    "    if (a % 3 == 0):\n",
    "        return True\n",
    "    else:\n",
    "        return False\n",
    "\n",
    "print(is_multiple_of_three(3))"
   ]
  },
  {
   "cell_type": "markdown",
   "id": "503972d3",
   "metadata": {},
   "source": [
    "#### 2. Write a program or a function definition named quotient that takes in two numbers and returns\n",
    "#### only the quotient from dividing the first number by the second number."
   ]
  },
  {
   "cell_type": "code",
   "execution_count": 3,
   "id": "36d05343",
   "metadata": {},
   "outputs": [
    {
     "name": "stdout",
     "output_type": "stream",
     "text": [
      "1.6666666666666667\n"
     ]
    }
   ],
   "source": [
    "def quotient(a,b):\n",
    "    c=a/b\n",
    "    return c\n",
    "\n",
    "print(quotient(5,3))"
   ]
  },
  {
   "cell_type": "markdown",
   "id": "61a9b7b0",
   "metadata": {},
   "source": [
    "##### 3. Write a program or a function definition named sum_of_squares that takes in two numbers,\n",
    "##### squares each number, then returns the sum of both squares."
   ]
  },
  {
   "cell_type": "code",
   "execution_count": 4,
   "id": "b889b465",
   "metadata": {},
   "outputs": [
    {
     "name": "stdout",
     "output_type": "stream",
     "text": [
      "25\n"
     ]
    }
   ],
   "source": [
    "def sum_of_squares(a,b):\n",
    "    c=a**2+b**2\n",
    "    return c\n",
    "print(sum_of_squares(3,4))\n"
   ]
  },
  {
   "cell_type": "markdown",
   "id": "204d1fbd",
   "metadata": {},
   "source": [
    "##### 4. Write a program or a function definition named sum_all that takes in numbers and returns all\n",
    "##### the numbers added together."
   ]
  },
  {
   "cell_type": "code",
   "execution_count": 5,
   "id": "fcf11718",
   "metadata": {},
   "outputs": [
    {
     "name": "stdout",
     "output_type": "stream",
     "text": [
      "10\n"
     ]
    }
   ],
   "source": [
    "def sum_all():\n",
    "    n = int(input(\"Enter the number of terms you want to add: \"))\n",
    "    total = 0\n",
    "    for i in range(n):\n",
    "        num = int(input(\"Enter the number: \"))\n",
    "        total += num\n",
    "    return total\n",
    "\n",
    "print(sum_all())\n",
    "\n",
    "    "
   ]
  },
  {
   "cell_type": "markdown",
   "id": "9f374171",
   "metadata": {},
   "source": [
    "#### 5. Write a program or a function definition named mean that takes in numbers and returns the\n",
    "#### average value."
   ]
  },
  {
   "cell_type": "code",
   "execution_count": 7,
   "id": "4963857c",
   "metadata": {},
   "outputs": [
    {
     "name": "stdout",
     "output_type": "stream",
     "text": [
      "3.5\n"
     ]
    }
   ],
   "source": [
    "nums = list(map(int, input(\"Enter the numbers seperated by space: \").split()))\n",
    "print(sum(nums)/float(len(nums)))"
   ]
  },
  {
   "cell_type": "markdown",
   "id": "4acfb755",
   "metadata": {},
   "source": [
    "#### 6. Write a program or a function definition named mode that takes in numbers and returns the\n",
    "#### most commonly occurring number."
   ]
  },
  {
   "cell_type": "code",
   "execution_count": 9,
   "id": "953ca9d0",
   "metadata": {},
   "outputs": [
    {
     "name": "stdout",
     "output_type": "stream",
     "text": [
      "5\n"
     ]
    }
   ],
   "source": [
    "nums = list(map(int,input(\"Enter the numbers seperated by space:\").split()))\n",
    "d={}\n",
    "maximum=0\n",
    "for i in nums:\n",
    "    if i in d:\n",
    "        d[i]+=1\n",
    "    else:\n",
    "        d[i]=1\n",
    "    maximum=max(maximum,d[i])\n",
    "for i in d:\n",
    "    if d[i]==maximum:\n",
    "        print(i)"
   ]
  },
  {
   "cell_type": "markdown",
   "id": "01c50734",
   "metadata": {},
   "source": [
    "#### 7. Write a program or a function definition named get_smallest_number that takes in numbers\n",
    "#### and returns the smallest number."
   ]
  },
  {
   "cell_type": "code",
   "execution_count": 11,
   "id": "e599f784",
   "metadata": {},
   "outputs": [
    {
     "name": "stdout",
     "output_type": "stream",
     "text": [
      "1\n"
     ]
    }
   ],
   "source": [
    "nums = list(map(int,input(\"Enter the numbers seperated by space\").split()))\n",
    "print(min(nums))"
   ]
  },
  {
   "cell_type": "markdown",
   "id": "57e8fd64",
   "metadata": {},
   "source": [
    "#### 8. Write a Program or a function definition named count_odds that takes and returns total of Odd\n",
    "#### numbers in the given input."
   ]
  },
  {
   "cell_type": "code",
   "execution_count": null,
   "id": "e2fee99e",
   "metadata": {},
   "outputs": [],
   "source": [
    "nums = list(map(int, input(\"Enter the numbers seperated by space: \").split()))\n",
    "count=0\n",
    "for i in nums:\n",
    "  mod = i%2\n",
    "  if mod:\n",
    "    count+=1\n",
    "print(count)"
   ]
  }
 ],
 "metadata": {
  "kernelspec": {
   "display_name": ".venv",
   "language": "python",
   "name": "python3"
  },
  "language_info": {
   "codemirror_mode": {
    "name": "ipython",
    "version": 3
   },
   "file_extension": ".py",
   "mimetype": "text/x-python",
   "name": "python",
   "nbconvert_exporter": "python",
   "pygments_lexer": "ipython3",
   "version": "3.13.5"
  }
 },
 "nbformat": 4,
 "nbformat_minor": 5
}
